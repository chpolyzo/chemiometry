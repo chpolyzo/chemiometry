{
 "cells": [
  {
   "cell_type": "markdown",
   "id": "b0c7678c",
   "metadata": {},
   "source": [
    "In order to complete [Chemiometry](https://elearning.unimib.it/course/info.php?id=57688) course as part of the [Masters degree](https://www.unimib.it/magistrale/scienze-tecnologie-ambiente-territorio) ('Laurea Magistrale') in Environmental Sciences ('Scienze e tecnologie per l'ambiente e il territorio') we elaborate a wine dataset taken from the study:\n",
    "\n",
    "[I.E. Frank and B.R. Kowalski (1984). \"Prediction of Wine Quality and Geographic Origin from Chemical Measurements by Partial Least-Squares Regression Modeling,\" Analytica Chimica Acta, 162, 241 − 251](https://www.sciencedirect.com/science/article/abs/pii/S0003267000842452#preview-section-abstract).\n",
    "\n",
    "Data can be found in \n",
    "\n",
    " -[Minitab](https://support.minitab.com/en-us/datasets/regression-data-sets/wine-aroma-ratings-data/)  \n",
    " -[R Datasets](https://r-packages.io/datasets/PinotNoir)  \n",
    "\n",
    "Here we are using the former source.\n",
    "\n",
    "This dataset is in [R data format](https://guides.dataverse.org/en/latest/user/tabulardataingest/rdata.html) so we use [pyreadr](https://pypi.org/project/pyreadr/) to unpack and make use of the dataset in python.\n"
   ]
  },
  {
   "cell_type": "code",
   "execution_count": 1,
   "id": "30681be0",
   "metadata": {},
   "outputs": [],
   "source": [
    "#import pyreadr and to read 'PinotNoir.rda' dataset, os and pandas to save data .csv format\n",
    "import pyreadr\n",
    "import pandas as pd\n",
    "import os.path"
   ]
  },
  {
   "cell_type": "code",
   "execution_count": 2,
   "id": "ee59586f",
   "metadata": {},
   "outputs": [
    {
     "data": {
      "text/plain": [
       "\"Datatype is: <class 'collections.OrderedDict'>\""
      ]
     },
     "execution_count": 2,
     "metadata": {},
     "output_type": "execute_result"
    }
   ],
   "source": [
    "#save data and check datatype \n",
    "data = pyreadr.read_r('PinotNoir.rda');\n",
    "'{} {}'.format('Datatype is:', type(data))"
   ]
  },
  {
   "cell_type": "code",
   "execution_count": 3,
   "id": "04e425e5",
   "metadata": {},
   "outputs": [
    {
     "data": {
      "text/plain": [
       "\"Key datatype is: <class 'str'> Value datatype is: <class 'pandas.core.frame.DataFrame'>\""
      ]
     },
     "execution_count": 3,
     "metadata": {},
     "output_type": "execute_result"
    }
   ],
   "source": [
    "# For OrderDict data types I use collections library\n",
    "from collections import OrderedDict\n",
    "#check dictionary's keys and values\n",
    "['Key datatype is: {} Value datatype is: {}'.format(type(key), type(value)) for key, value in data.items()][0]\n"
   ]
  },
  {
   "cell_type": "code",
   "execution_count": 4,
   "id": "a23b6422",
   "metadata": {},
   "outputs": [],
   "source": [
    "# Save values in a new dataframe\n",
    "df = data['PinotNoir']"
   ]
  },
  {
   "cell_type": "code",
   "execution_count": 5,
   "id": "e984f5cb",
   "metadata": {},
   "outputs": [
    {
     "name": "stdout",
     "output_type": "stream",
     "text": [
      "File already exists\n"
     ]
    }
   ],
   "source": [
    "# export data to .csv\n",
    "path = './PinotNoir.csv'\n",
    "check_file = os.path.exists(path)\n",
    "if check_file == True:\n",
    "    print(\"File already exists\")\n",
    "else:\n",
    "    df.to_csv('PinotNoir.csv', index=False)"
   ]
  }
 ],
 "metadata": {
  "kernelspec": {
   "display_name": "Python 3 (ipykernel)",
   "language": "python",
   "name": "python3"
  },
  "language_info": {
   "codemirror_mode": {
    "name": "ipython",
    "version": 3
   },
   "file_extension": ".py",
   "mimetype": "text/x-python",
   "name": "python",
   "nbconvert_exporter": "python",
   "pygments_lexer": "ipython3",
   "version": "3.13.1"
  }
 },
 "nbformat": 4,
 "nbformat_minor": 5
}
